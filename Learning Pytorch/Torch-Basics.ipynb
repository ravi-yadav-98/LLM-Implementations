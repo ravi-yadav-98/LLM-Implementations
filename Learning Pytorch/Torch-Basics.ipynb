{
 "cells": [
  {
   "cell_type": "markdown",
   "id": "d11c975b-b8b2-4da8-ab08-bf44ca13e9e2",
   "metadata": {},
   "source": [
    "### Pytorch Basics"
   ]
  },
  {
   "cell_type": "code",
   "execution_count": 11,
   "id": "7a4fbed2-a4d3-4059-8fa7-68d6dc353698",
   "metadata": {},
   "outputs": [],
   "source": [
    "#imports\n",
    "import torch\n",
    "import numpy as np"
   ]
  },
  {
   "cell_type": "code",
   "execution_count": 6,
   "id": "dbd5cf2d-cb3a-41ca-81c2-3d19092865ec",
   "metadata": {},
   "outputs": [
    {
     "name": "stdout",
     "output_type": "stream",
     "text": [
      "tensor([1, 2, 3])\n",
      "torch.Size([3])\n"
     ]
    }
   ],
   "source": [
    "#tensors\n",
    "x = torch.tensor([1,2,3])\n",
    "print(x)\n",
    "print(x.size())"
   ]
  },
  {
   "cell_type": "code",
   "execution_count": 30,
   "id": "3c0825b3-2f68-4e09-8d61-2ee6662ddddb",
   "metadata": {},
   "outputs": [
    {
     "data": {
      "text/plain": [
       "tensor([1., 2., 3.])"
      ]
     },
     "execution_count": 30,
     "metadata": {},
     "output_type": "execute_result"
    }
   ],
   "source": [
    "x = torch.tensor([1.0, 2.0, 3.0], dtype=torch.float32)\n",
    "x"
   ]
  },
  {
   "cell_type": "code",
   "execution_count": 31,
   "id": "74ed7059-ab78-4b54-9cac-6803d4ff1856",
   "metadata": {},
   "outputs": [
    {
     "data": {
      "text/plain": [
       "tensor([ 1,  3,  5,  7,  9, 11, 13, 15, 17, 19])"
      ]
     },
     "execution_count": 31,
     "metadata": {},
     "output_type": "execute_result"
    }
   ],
   "source": [
    "torch.arange(1,20,2)"
   ]
  },
  {
   "cell_type": "code",
   "execution_count": 32,
   "id": "85587cb1-e481-45c4-b511-ca1b35806c4c",
   "metadata": {},
   "outputs": [
    {
     "data": {
      "text/plain": [
       "tensor([[ 0.3197, -0.8935],\n",
       "        [-0.8013,  1.3041]])"
      ]
     },
     "execution_count": 32,
     "metadata": {},
     "output_type": "execute_result"
    }
   ],
   "source": [
    "torch.randn(2,2)"
   ]
  },
  {
   "cell_type": "code",
   "execution_count": 40,
   "id": "fbd9b76b-c419-48cd-abb1-8edce83dfde5",
   "metadata": {},
   "outputs": [
    {
     "data": {
      "text/plain": [
       "tensor([[1, 2],\n",
       "        [3, 4],\n",
       "        [5, 6]])"
      ]
     },
     "execution_count": 40,
     "metadata": {},
     "output_type": "execute_result"
    }
   ],
   "source": [
    "x = torch.arange(1,7)\n",
    "reshaped = x.view(3,2)\n",
    "reshaped"
   ]
  },
  {
   "cell_type": "code",
   "execution_count": 47,
   "id": "81eb551f-cb89-4374-8c59-8e74caf87e14",
   "metadata": {},
   "outputs": [
    {
     "data": {
      "text/plain": [
       "torch.Size([1, 1, 3, 1])"
      ]
     },
     "execution_count": 47,
     "metadata": {},
     "output_type": "execute_result"
    }
   ],
   "source": [
    "#Squeeze and unsqueeze\n",
    "# squeeze: Removes dimensions of size 1.\n",
    "# unsqueeze: Adds dimensions of size 1.\n",
    "\n",
    "x = torch.tensor([[[1], [2], [3]]])  #size (1,3,1)\n",
    "sq = x.unsqueeze(1)\n",
    "sq.size()\n"
   ]
  },
  {
   "cell_type": "code",
   "execution_count": 8,
   "id": "58a30d07-f9dc-430e-b696-cf360f264cb6",
   "metadata": {},
   "outputs": [
    {
     "data": {
      "text/plain": [
       "torch.Size([3, 3])"
      ]
     },
     "execution_count": 8,
     "metadata": {},
     "output_type": "execute_result"
    }
   ],
   "source": [
    "#zeros\n",
    "x = torch.zeros(3,3)\n",
    "y = torch.ones(2,2)\n",
    "x.size()"
   ]
  },
  {
   "cell_type": "code",
   "execution_count": 9,
   "id": "2d93f327-78d9-4d22-8d62-2dfdaca36dfc",
   "metadata": {},
   "outputs": [
    {
     "data": {
      "text/plain": [
       "tensor([[0.8100, 0.1417, 0.7345],\n",
       "        [0.5485, 0.2076, 0.2105],\n",
       "        [0.5483, 0.0683, 0.0374]])"
      ]
     },
     "execution_count": 9,
     "metadata": {},
     "output_type": "execute_result"
    }
   ],
   "source": [
    "#randon\n",
    "x = torch.rand(3,3)\n",
    "x"
   ]
  },
  {
   "cell_type": "code",
   "execution_count": 13,
   "id": "34f6b0ec-f63f-4c7e-a181-ba9eef7b0bf1",
   "metadata": {},
   "outputs": [
    {
     "data": {
      "text/plain": [
       "tensor([1, 2, 3], dtype=torch.int32)"
      ]
     },
     "execution_count": 13,
     "metadata": {},
     "output_type": "execute_result"
    }
   ],
   "source": [
    "np_arr = np.array([1,2,3])\n",
    "torch_arr = torch.from_numpy(np_arr)\n",
    "torch_arr"
   ]
  },
  {
   "cell_type": "code",
   "execution_count": 14,
   "id": "26d2db02-9e62-459c-97d9-2390d0fb9ba4",
   "metadata": {},
   "outputs": [],
   "source": [
    "if torch.cuda.is_available():\n",
    "    x = x.cuda()  # Moves tensor to GPU"
   ]
  },
  {
   "cell_type": "code",
   "execution_count": 15,
   "id": "76aea6ad-1311-4d74-9fed-711af76bca89",
   "metadata": {},
   "outputs": [],
   "source": [
    "a = torch.tensor([1, 2, 3])\n",
    "b = torch.tensor([4, 5, 6])\n",
    "\n",
    "sum_ab = a + b  # Element-wise addition\n",
    "diff_ab = a - b  # Element-wise subtraction\n",
    "prod_ab = a * b  # Element-wise multiplication"
   ]
  },
  {
   "cell_type": "code",
   "execution_count": 16,
   "id": "4c0a313e-cd76-4230-9d63-dc366fc48e26",
   "metadata": {},
   "outputs": [
    {
     "data": {
      "text/plain": [
       "tensor([[-0.0375, -0.2003,  0.1543],\n",
       "        [ 0.1462,  0.9435, -0.5823],\n",
       "        [ 0.0756,  0.6102, -0.2869]])"
      ]
     },
     "execution_count": 16,
     "metadata": {},
     "output_type": "execute_result"
    }
   ],
   "source": [
    "a = torch.randn(3, 2)\n",
    "b = torch.randn(2, 3)\n",
    "result = torch.matmul(a, b)  # Matrix multiplication\n",
    "result"
   ]
  },
  {
   "cell_type": "code",
   "execution_count": 17,
   "id": "b23b3217-bde2-411b-a1c5-11c4608160ab",
   "metadata": {},
   "outputs": [
    {
     "data": {
      "text/plain": [
       "tensor([[-0.0375, -0.2003,  0.1543],\n",
       "        [ 0.1462,  0.9435, -0.5823],\n",
       "        [ 0.0756,  0.6102, -0.2869]])"
      ]
     },
     "execution_count": 17,
     "metadata": {},
     "output_type": "execute_result"
    }
   ],
   "source": [
    "a@b"
   ]
  },
  {
   "cell_type": "code",
   "execution_count": 26,
   "id": "1ef38969-acbf-4e69-b132-50d6a3e2beed",
   "metadata": {},
   "outputs": [],
   "source": [
    "x = torch.tensor([1.0, 2.0], requires_grad=True)\n",
    "y = x * 2\n",
    "z = y.sum()"
   ]
  },
  {
   "cell_type": "code",
   "execution_count": 28,
   "id": "f9c8b3bd-d56f-4ab4-bf83-e9b210f5dc92",
   "metadata": {},
   "outputs": [],
   "source": [
    "z.backward()"
   ]
  },
  {
   "cell_type": "code",
   "execution_count": 29,
   "id": "d2d7cafa-02fb-4f04-a560-2f954f718d4b",
   "metadata": {},
   "outputs": [
    {
     "data": {
      "text/plain": [
       "tensor([2., 2.])"
      ]
     },
     "execution_count": 29,
     "metadata": {},
     "output_type": "execute_result"
    }
   ],
   "source": [
    "x.grad"
   ]
  },
  {
   "cell_type": "code",
   "execution_count": 23,
   "id": "2c620ffe-08e2-4015-ade1-8d22a305625d",
   "metadata": {},
   "outputs": [
    {
     "data": {
      "text/plain": [
       "tensor([1., 2.])"
      ]
     },
     "execution_count": 23,
     "metadata": {},
     "output_type": "execute_result"
    }
   ],
   "source": [
    "x_detached = x.detach() \n",
    "x_detached"
   ]
  },
  {
   "cell_type": "code",
   "execution_count": 49,
   "id": "5a99a33b-0004-4005-8b00-64f705172894",
   "metadata": {},
   "outputs": [
    {
     "data": {
      "text/plain": [
       "torch.Size([3, 2])"
      ]
     },
     "execution_count": 49,
     "metadata": {},
     "output_type": "execute_result"
    }
   ],
   "source": [
    "x = torch.rand(2, 3)  # Shape: (2, 3)\n",
    "transposed = x.transpose(0, 1)  # Shape: (3, 2)\n",
    "transposed.size()"
   ]
  },
  {
   "cell_type": "code",
   "execution_count": 53,
   "id": "7f103d1d-2c1d-4617-b212-153c7ef55989",
   "metadata": {},
   "outputs": [
    {
     "name": "stdout",
     "output_type": "stream",
     "text": [
      "tensor(3)\n",
      "tensor([2, 5])\n",
      "tensor([4, 5, 6, 7, 8, 9])\n"
     ]
    }
   ],
   "source": [
    "\n",
    "#indexing and slicing \n",
    "x = torch.tensor([[1, 2, 3,4,5, 6], [4, 5, 6, 7, 8, 9]])\n",
    "\n",
    "print(x[0, 2])   # Element at row 0, column 2\n",
    "print(x[:, 1])   # All rows, column 1\n",
    "print(x[1, :])   # Row 1, all columns"
   ]
  },
  {
   "cell_type": "code",
   "execution_count": 55,
   "id": "ab90fbe0-8a9e-47c0-a61c-d1cf84eef061",
   "metadata": {},
   "outputs": [
    {
     "data": {
      "text/plain": [
       "tensor([[1, 3, 5],\n",
       "        [4, 6, 8]])"
      ]
     },
     "execution_count": 55,
     "metadata": {},
     "output_type": "execute_result"
    }
   ],
   "source": [
    "x[:, 0::2]"
   ]
  },
  {
   "cell_type": "code",
   "execution_count": 56,
   "id": "359e0b4e-1efb-49dc-88d3-1b7464cd042b",
   "metadata": {
    "scrolled": true
   },
   "outputs": [
    {
     "name": "stdout",
     "output_type": "stream",
     "text": [
      "tensor([[0, 1, 2],\n",
      "        [6, 7, 8]])\n",
      "tensor([6, 7, 8])\n"
     ]
    }
   ],
   "source": [
    "x = torch.arange(9).reshape(3, 3)\n",
    "\n",
    "print(x[[0, 2]])    # Select rows 0 and 2\n",
    "print(x[x > 5])     # Select elements greater than 5"
   ]
  },
  {
   "cell_type": "code",
   "execution_count": 57,
   "id": "b9b3f53b-ae3d-48d6-a353-aad30408cbd0",
   "metadata": {},
   "outputs": [
    {
     "name": "stdout",
     "output_type": "stream",
     "text": [
      "Original Shape: torch.Size([2, 3, 4])\n",
      "Transposed Shape: torch.Size([2, 4, 3])\n"
     ]
    }
   ],
   "source": [
    "x = torch.rand(2, 3, 4)  # Shape: (2, 3, 4)\n",
    "print(\"Original Shape:\", x.shape)\n",
    "\n",
    "transposed = torch.transpose(x, 1, 2)  # Swap dimensions 1 and 2\n",
    "print(\"Transposed Shape:\", transposed.shape)"
   ]
  },
  {
   "cell_type": "code",
   "execution_count": null,
   "id": "b680ef80-abfd-484e-a7a6-0b3d60cda7c9",
   "metadata": {},
   "outputs": [],
   "source": []
  },
  {
   "cell_type": "code",
   "execution_count": null,
   "id": "c1029fa4-139f-449b-bb17-3b0932ff4cee",
   "metadata": {},
   "outputs": [],
   "source": []
  },
  {
   "cell_type": "code",
   "execution_count": null,
   "id": "9dfa857e-5ec1-45c4-b569-4b7e67259ff1",
   "metadata": {},
   "outputs": [],
   "source": []
  }
 ],
 "metadata": {
  "kernelspec": {
   "display_name": "Python 3 (ipykernel)",
   "language": "python",
   "name": "python3"
  },
  "language_info": {
   "codemirror_mode": {
    "name": "ipython",
    "version": 3
   },
   "file_extension": ".py",
   "mimetype": "text/x-python",
   "name": "python",
   "nbconvert_exporter": "python",
   "pygments_lexer": "ipython3",
   "version": "3.12.4"
  }
 },
 "nbformat": 4,
 "nbformat_minor": 5
}
