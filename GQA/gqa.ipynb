{
 "cells": [
  {
   "cell_type": "markdown",
   "id": "531c27b0-2ff5-42ed-8a2b-5f50f4ef93dd",
   "metadata": {},
   "source": [
    "## Group Query Attention (GQA)"
   ]
  },
  {
   "cell_type": "code",
   "execution_count": 14,
   "id": "b2d5063b-da3e-4a0e-9fa9-0037c214c46a",
   "metadata": {},
   "outputs": [],
   "source": [
    "from torch.nn.functional import scaled_dot_product_attention\n",
    "import torch\n",
    "from einops import rearrange, einsum"
   ]
  },
  {
   "cell_type": "code",
   "execution_count": 4,
   "id": "95c6ee3f-bd82-4cbf-b1a4-6f26aeef4fd8",
   "metadata": {},
   "outputs": [
    {
     "name": "stdout",
     "output_type": "stream",
     "text": [
      "torch.Size([1, 256, 8, 64])\n"
     ]
    }
   ],
   "source": [
    "# shapes: (batch_size, seq_len, num_heads, head_dim)\n",
    "query = torch.randn(1, 256, 8, 64)\n",
    "key = torch.randn(1, 256, 8, 64)\n",
    "value = torch.randn(1, 256, 8, 64)\n",
    "\n",
    "output = scaled_dot_product_attention(query, key, value)\n",
    "print(output.shape) # torch.Size([1, 256, 8, 64])"
   ]
  },
  {
   "cell_type": "code",
   "execution_count": 7,
   "id": "d36297b3-1910-4cdc-aaf1-72c344114f58",
   "metadata": {},
   "outputs": [],
   "source": [
    "# !pip install einops"
   ]
  },
  {
   "cell_type": "code",
   "execution_count": 10,
   "id": "8b8f3f05-075c-4911-a4d5-979ac9e2d76d",
   "metadata": {},
   "outputs": [
    {
     "name": "stdout",
     "output_type": "stream",
     "text": [
      "4\n"
     ]
    }
   ],
   "source": [
    "\n",
    "# shapes: (batch_size, seq_len, num_heads, head_dim)\n",
    "query = torch.randn(1, 256, 8, 64)\n",
    "key = torch.randn(1, 256, 2, 64)\n",
    "value = torch.randn(1, 256, 2, 64)\n",
    "\n",
    "num_head_groups = query.shape[2] // key.shape[2]\n",
    "print(num_head_groups) # each group is of size 4 since there are 2 kv_heads"
   ]
  },
  {
   "cell_type": "code",
   "execution_count": 11,
   "id": "e69883cb-46bf-443a-af5e-77534d279c23",
   "metadata": {},
   "outputs": [],
   "source": [
    "query = rearrange(query, \"b n h d -> b h n d\")\n",
    "key = rearrange(key, \"b s h d -> b h s d\")\n",
    "value = rearrange(value, \"b s h d -> b h s d\")"
   ]
  },
  {
   "cell_type": "code",
   "execution_count": 12,
   "id": "fb14393b-26dc-4d80-86a2-ca65d9a1e169",
   "metadata": {},
   "outputs": [
    {
     "name": "stdout",
     "output_type": "stream",
     "text": [
      "torch.Size([1, 4, 2, 256, 64])\n"
     ]
    }
   ],
   "source": [
    "query = rearrange(query, \"b (h g) n d -> b g h n d\", g=num_head_groups)\n",
    "print(query.shape) # torch.Size([1, 4, 2, 256, 64])"
   ]
  },
  {
   "cell_type": "code",
   "execution_count": 15,
   "id": "61d2509c-7f1d-498c-a335-e81f0ea23619",
   "metadata": {},
   "outputs": [
    {
     "name": "stdout",
     "output_type": "stream",
     "text": [
      "torch.Size([1, 2, 256, 256])\n"
     ]
    }
   ],
   "source": [
    "scores = einsum(query, key, \"b g h n d, b h s d -> b h n s\")\n",
    "print(scores.shape) # torch.Size([1, 2, 256, 256])"
   ]
  },
  {
   "cell_type": "code",
   "execution_count": 17,
   "id": "e10a1286-be09-4aea-a86c-68a5424cd5a7",
   "metadata": {},
   "outputs": [
    {
     "name": "stdout",
     "output_type": "stream",
     "text": [
      "torch.Size([1, 256, 2, 64])\n"
     ]
    }
   ],
   "source": [
    "import torch.nn.functional as F\n",
    "\n",
    "scale = query.size(-1) ** 0.5\n",
    "attention = F.softmax(scores / scale, dim=-1)\n",
    "\n",
    "# here we do just a standard matrix multiplication\n",
    "out = einsum(attention, value, \"b h n s, b h s d -> b h n d\")\n",
    "\n",
    "# finally, just reshape back to the (batch_size, seq_len, num_kv_heads, hidden_dim)\n",
    "out = rearrange(out, \"b h n d -> b n h d\")\n",
    "print(out.shape) # torch.Size([1, 256, 2, 64])"
   ]
  },
  {
   "cell_type": "code",
   "execution_count": null,
   "id": "7f94ffe2-d217-462b-ba9a-fb649c9131bc",
   "metadata": {},
   "outputs": [],
   "source": []
  }
 ],
 "metadata": {
  "kernelspec": {
   "display_name": "Python 3 (ipykernel)",
   "language": "python",
   "name": "python3"
  },
  "language_info": {
   "codemirror_mode": {
    "name": "ipython",
    "version": 3
   },
   "file_extension": ".py",
   "mimetype": "text/x-python",
   "name": "python",
   "nbconvert_exporter": "python",
   "pygments_lexer": "ipython3",
   "version": "3.12.4"
  }
 },
 "nbformat": 4,
 "nbformat_minor": 5
}
